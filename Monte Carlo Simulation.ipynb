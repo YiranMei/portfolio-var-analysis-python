{
 "cells": [
  {
   "cell_type": "markdown",
   "id": "f6898717-7fd3-46a6-9395-58323f417684",
   "metadata": {},
   "source": [
    "# Monte Carlo Simulation for Portfolio Value at Risk (VaR)\n",
    "**Author:** Winifred Mei  \n",
    "**Date:** August 21, 2025  \n",
    "\n",
    "In this notebook, we estimate **Value at Risk (VaR)** using a **Monte Carlo simulation**.  \n",
    "We simulate a large number of potential portfolio outcomes over a short-term horizon and calculate risk measures based on these scenarios.\n"
   ]
  },
  {
   "cell_type": "markdown",
   "id": "ee0e9cb4-3d24-48c6-8ec6-c63e4b4abc3d",
   "metadata": {},
   "source": [
    "## Import Required Libraries\n",
    "\n",
    "We begin by importing all the necessary Python libraries:  \n",
    "- `numpy` and `pandas` for numerical and data operations  \n",
    "- `datetime` for handling date ranges  \n",
    "- `yfinance` to download historical stock prices  \n",
    "- `matplotlib` for visualization  \n",
    "- `scipy.stats` for statistical functions\n"
   ]
  },
  {
   "cell_type": "code",
   "execution_count": 2,
   "id": "4b7f18a2-3b45-48b5-b362-251e2c7d3ae1",
   "metadata": {},
   "outputs": [],
   "source": [
    "import numpy as np\n",
    "import pandas as pd\n",
    "import datetime as dt\n",
    "import yfinance as yf\n",
    "import matplotlib.pyplot as plt\n",
    "from scipy.stats import norm"
   ]
  },
  {
   "cell_type": "markdown",
   "id": "8c89efdf-a115-41b8-95b8-9d1a5f2bc016",
   "metadata": {},
   "source": [
    "## Set Time Range and Define Portfolio Tickers\n",
    "\n",
    "We define the historical period for analysis and select the stocks for our portfolio.\n"
   ]
  },
  {
   "cell_type": "code",
   "execution_count": 3,
   "id": "df6cec17-e7b3-40f1-8738-80654773f42a",
   "metadata": {},
   "outputs": [],
   "source": [
    "# Analysis period\n",
    "years_back = 10\n",
    "end_date = dt.datetime.now()\n",
    "start_date = end_date - dt.timedelta(days=365*years_back)\n",
    "\n",
    "# Portfolio tickers\n",
    "tickers = ['AAPL', 'MSFT', 'GOOGL', 'AMZN', 'TSLA']\n"
   ]
  },
  {
   "cell_type": "code",
   "execution_count": 4,
   "id": "a19fa953-c04e-480c-b464-d96b69c9cb95",
   "metadata": {},
   "outputs": [
    {
     "name": "stderr",
     "output_type": "stream",
     "text": [
      "/var/folders/fb/yy69flkj2yv4cyv2j0q3jyzw0000gn/T/ipykernel_4440/2582954864.py:4: FutureWarning: YF.download() has changed argument auto_adjust default to True\n",
      "  data = yf.download(ticker, start=start_date, end=end_date)\n",
      "[*********************100%***********************]  1 of 1 completed\n",
      "/var/folders/fb/yy69flkj2yv4cyv2j0q3jyzw0000gn/T/ipykernel_4440/2582954864.py:4: FutureWarning: YF.download() has changed argument auto_adjust default to True\n",
      "  data = yf.download(ticker, start=start_date, end=end_date)\n",
      "[*********************100%***********************]  1 of 1 completed\n",
      "/var/folders/fb/yy69flkj2yv4cyv2j0q3jyzw0000gn/T/ipykernel_4440/2582954864.py:4: FutureWarning: YF.download() has changed argument auto_adjust default to True\n",
      "  data = yf.download(ticker, start=start_date, end=end_date)\n",
      "[*********************100%***********************]  1 of 1 completed\n",
      "/var/folders/fb/yy69flkj2yv4cyv2j0q3jyzw0000gn/T/ipykernel_4440/2582954864.py:4: FutureWarning: YF.download() has changed argument auto_adjust default to True\n",
      "  data = yf.download(ticker, start=start_date, end=end_date)\n",
      "[*********************100%***********************]  1 of 1 completed\n",
      "/var/folders/fb/yy69flkj2yv4cyv2j0q3jyzw0000gn/T/ipykernel_4440/2582954864.py:4: FutureWarning: YF.download() has changed argument auto_adjust default to True\n",
      "  data = yf.download(ticker, start=start_date, end=end_date)\n",
      "[*********************100%***********************]  1 of 1 completed\n"
     ]
    }
   ],
   "source": [
    "price_data = pd.DataFrame()\n",
    "\n",
    "for ticker in tickers:\n",
    "    data = yf.download(ticker, start=start_date, end=end_date)\n",
    "    price_data[ticker] = data['Close']\n",
    "\n",
    "# Daily log returns\n",
    "log_returns = np.log(price_data / price_data.shift(1)).dropna()\n"
   ]
  },
  {
   "cell_type": "markdown",
   "id": "f6d51bef-c51e-4b9b-8d15-069940833b0f",
   "metadata": {},
   "source": [
    "## Define Functions for Portfolio Metrics\n",
    "\n",
    "We create functions to calculate **portfolio expected return** and **portfolio standard deviation**.\n"
   ]
  },
  {
   "cell_type": "code",
   "execution_count": 5,
   "id": "cd741b44-ee45-4e86-85fc-dde3903775af",
   "metadata": {},
   "outputs": [],
   "source": [
    "def portfolio_expected_return(weights, returns_df):\n",
    "    return np.sum(returns_df.mean() * weights)\n",
    "\n",
    "def portfolio_std_dev(weights, cov_matrix):\n",
    "    variance = weights.T @ cov_matrix @ weights\n",
    "    return np.sqrt(variance)\n"
   ]
  },
  {
   "cell_type": "markdown",
   "id": "ba566feb-718d-4521-920e-a06dabeca4f5",
   "metadata": {},
   "source": [
    "## Create Covariance Matrix and Portfolio Statistics\n",
    "\n",
    "We construct a covariance matrix of daily returns and calculate portfolio expected return and standard deviation.\n"
   ]
  },
  {
   "cell_type": "code",
   "execution_count": 6,
   "id": "d0fbe0df-215b-4fcf-b0a5-5f1d81f4af92",
   "metadata": {},
   "outputs": [],
   "source": [
    "cov_matrix = log_returns.cov()\n",
    "weights = np.array([1/len(tickers)] * len(tickers))\n",
    "portfolio_value = 500_000  # total portfolio value\n",
    "\n",
    "exp_return = portfolio_expected_return(weights, log_returns)\n",
    "std_dev = portfolio_std_dev(weights, cov_matrix)\n"
   ]
  },
  {
   "cell_type": "markdown",
   "id": "a6e7315b-198f-41b5-909b-302147b2f6eb",
   "metadata": {},
   "source": [
    "## Define Monte Carlo Simulation Functions\n",
    "\n",
    "We define a function to generate random Z-scores and calculate **scenario gain/loss** for a given day window.\n"
   ]
  },
  {
   "cell_type": "code",
   "execution_count": 7,
   "id": "1a5e5ece-aadb-4ba9-9789-62a7085602af",
   "metadata": {},
   "outputs": [],
   "source": [
    "def random_z():\n",
    "    return np.random.normal(0, 1)\n",
    "\n",
    "simulation_days = 20\n",
    "\n",
    "def scenario_gain_loss(portfolio_value, portfolio_std, z_score, days):\n",
    "    return portfolio_value * exp_return * days + portfolio_value * portfolio_std * z_score * np.sqrt(days)\n"
   ]
  },
  {
   "cell_type": "markdown",
   "id": "3d7535ae-9195-4b37-a61c-5a8efb80ac23",
   "metadata": {},
   "source": [
    "## Run Monte Carlo Simulations\n",
    "\n",
    "We run **10,000 simulations** to generate potential portfolio outcomes over the specified horizon.\n"
   ]
  },
  {
   "cell_type": "code",
   "execution_count": 8,
   "id": "13bb30c8-3dba-4025-bf4a-f653bb91e387",
   "metadata": {},
   "outputs": [],
   "source": [
    "num_simulations = 10000\n",
    "simulation_results = []\n",
    "\n",
    "for _ in range(num_simulations):\n",
    "    z = random_z()\n",
    "    simulation_results.append(scenario_gain_loss(portfolio_value, std_dev, z, simulation_days))\n"
   ]
  },
  {
   "cell_type": "markdown",
   "id": "05c0d5c9-e8c6-4390-b6bc-4a0eb5dd753b",
   "metadata": {},
   "source": [
    "## Calculate Value at Risk (VaR)\n",
    "\n",
    "We calculate **VaR** at a 99% confidence level based on the simulated outcomes.\n"
   ]
  },
  {
   "cell_type": "code",
   "execution_count": 9,
   "id": "33e2f51c-c2e3-49c6-b71e-fb9e7cb8a8b1",
   "metadata": {},
   "outputs": [
    {
     "name": "stdout",
     "output_type": "stream",
     "text": [
      "Portfolio VaR at 99% confidence level: $82,331.47\n"
     ]
    }
   ],
   "source": [
    "confidence_level = 0.99\n",
    "VaR = -np.percentile(simulation_results, 100 * (1 - confidence_level))\n",
    "print(f\"Portfolio VaR at {confidence_level:.0%} confidence level: ${VaR:,.2f}\")\n"
   ]
  },
  {
   "cell_type": "markdown",
   "id": "5dd92212-b739-47e1-a356-3de87e89172f",
   "metadata": {},
   "source": [
    "## Visualize Simulation Results and VaR\n",
    "\n",
    "We plot a histogram of simulated portfolio gains and losses, highlighting the VaR threshold.\n"
   ]
  },
  {
   "cell_type": "code",
   "execution_count": 10,
   "id": "64d1e30b-343a-4cb0-8f74-50a85598c7a3",
   "metadata": {},
   "outputs": [
    {
     "data": {
      "image/png": "[encoded data removed]",
      "text/plain": [
       "<Figure size 1000x600 with 1 Axes>"
      ]
     },
     "metadata": {},
     "output_type": "display_data"
    }
   ],
   "source": [
    "plt.figure(figsize=(10,6))\n",
    "plt.hist(simulation_results, bins=50, density=True, alpha=0.6, color='purple')\n",
    "plt.xlabel('Portfolio Gain/Loss ($)')\n",
    "plt.ylabel('Frequency')\n",
    "plt.title(f'Distribution of Portfolio Gain/Loss over {simulation_days} Days')\n",
    "plt.axvline(-VaR, color='red', linestyle='--', linewidth=2, label=f'VaR at {confidence_level:.0%} Confidence')\n",
    "plt.legend()\n",
    "plt.show()\n"
   ]
  },
  {
   "cell_type": "code",
   "execution_count": null,
   "id": "aaa295ff-f053-47d4-a2e5-0a49833c45e7",
   "metadata": {},
   "outputs": [],
   "source": []
  }
 ],
 "metadata": {
  "kernelspec": {
   "display_name": "Python 3 (ipykernel)",
   "language": "python",
   "name": "python3"
  },
  "language_info": {
   "codemirror_mode": {
    "name": "ipython",
    "version": 3
   },
   "file_extension": ".py",
   "mimetype": "text/x-python",
   "name": "python",
   "nbconvert_exporter": "python",
   "pygments_lexer": "ipython3",
   "version": "3.9.13"
  }
 },
 "nbformat": 4,
 "nbformat_minor": 5
}
