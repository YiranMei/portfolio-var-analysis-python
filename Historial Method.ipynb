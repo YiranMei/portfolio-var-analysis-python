{
 "cells": [
  {
   "cell_type": "markdown",
   "id": "98b6ef42-0c65-40ee-836b-cb9a4aae900f",
   "metadata": {},
   "source": [
    "# Historical Method: Value at Risk (VaR) for a Stock Portfolio\n",
    "**Author:** Winifred Mei  \n",
    "**Date:** August 21, 2025  \n",
    "\n",
    "This notebook demonstrates **Value at Risk (VaR)** calculation using the **historical simulation method**.  \n",
    "We use Python with **yfinance** to fetch historical prices and compute VaR for a diversified stock portfolio.\n"
   ]
  },
  {
   "cell_type": "markdown",
   "id": "b7466763-bfde-4aee-9c78-388b4618e85d",
   "metadata": {},
   "source": [
    "## Define Time Period and Portfolio Stocks\n",
    "\n",
    "We’ll analyze the **past 10 years** of data for a set of major tech stocks.\n"
   ]
  },
  {
   "cell_type": "code",
   "execution_count": 6,
   "id": "e8fa5459-6c42-455c-8308-4acfbe0f7d66",
   "metadata": {},
   "outputs": [],
   "source": [
    "import numpy as np\n",
    "import pandas as pd\n",
    "import datetime as dt\n",
    "import yfinance as yf\n",
    "import matplotlib.pyplot as plt\n",
    "\n",
    "# Analysis period: last 10 years\n",
    "years_back = 10\n",
    "end_date = dt.datetime.now()\n",
    "start_date = end_date - dt.timedelta(days=365*years_back)\n",
    "\n",
    "# Portfolio tickers (tech-focused)\n",
    "tickers = ['AAPL', 'MSFT', 'GOOGL', 'AMZN', 'TSLA']\n"
   ]
  },
  {
   "cell_type": "markdown",
   "id": "a3bfb6b0-ecaa-4877-93af-35aeae1ca60e",
   "metadata": {},
   "source": [
    "## Downloading Adjusted Close Prices\n",
    "\n",
    "Next, we download the daily adjusted close prices for each ticker using **yfinance**.\n"
   ]
  },
  {
   "cell_type": "code",
   "execution_count": 7,
   "id": "a8a49e25-d10b-4634-9a58-f830b30b8786",
   "metadata": {},
   "outputs": [
    {
     "name": "stderr",
     "output_type": "stream",
     "text": [
      "/var/folders/fb/yy69flkj2yv4cyv2j0q3jyzw0000gn/T/ipykernel_4087/2063452536.py:4: FutureWarning: YF.download() has changed argument auto_adjust default to True\n",
      "  data = yf.download(ticker, start=start_date, end=end_date)\n",
      "[*********************100%***********************]  1 of 1 completed\n",
      "/var/folders/fb/yy69flkj2yv4cyv2j0q3jyzw0000gn/T/ipykernel_4087/2063452536.py:4: FutureWarning: YF.download() has changed argument auto_adjust default to True\n",
      "  data = yf.download(ticker, start=start_date, end=end_date)\n",
      "[*********************100%***********************]  1 of 1 completed\n",
      "/var/folders/fb/yy69flkj2yv4cyv2j0q3jyzw0000gn/T/ipykernel_4087/2063452536.py:4: FutureWarning: YF.download() has changed argument auto_adjust default to True\n",
      "  data = yf.download(ticker, start=start_date, end=end_date)\n",
      "[*********************100%***********************]  1 of 1 completed\n",
      "/var/folders/fb/yy69flkj2yv4cyv2j0q3jyzw0000gn/T/ipykernel_4087/2063452536.py:4: FutureWarning: YF.download() has changed argument auto_adjust default to True\n",
      "  data = yf.download(ticker, start=start_date, end=end_date)\n",
      "[*********************100%***********************]  1 of 1 completed\n",
      "/var/folders/fb/yy69flkj2yv4cyv2j0q3jyzw0000gn/T/ipykernel_4087/2063452536.py:4: FutureWarning: YF.download() has changed argument auto_adjust default to True\n",
      "  data = yf.download(ticker, start=start_date, end=end_date)\n",
      "[*********************100%***********************]  1 of 1 completed"
     ]
    },
    {
     "name": "stdout",
     "output_type": "stream",
     "text": [
      "                 AAPL       MSFT      GOOGL       AMZN       TSLA\n",
      "Date                                                             \n",
      "2015-08-25  23.313032  35.322548  30.440937  23.318501  14.668667\n",
      "2015-08-26  24.650150  37.277657  32.790344  25.038500  14.989333\n",
      "2015-08-27  25.376013  38.316292  33.198891  25.918501  16.199333\n",
      "2015-08-28  25.459160  38.342480  32.787861  25.900499  16.565332\n",
      "2015-08-31  25.340050  37.984623  32.197899  25.644501  16.604000\n"
     ]
    },
    {
     "name": "stderr",
     "output_type": "stream",
     "text": [
      "\n"
     ]
    }
   ],
   "source": [
    "price_data = pd.DataFrame()\n",
    "\n",
    "for ticker in tickers:\n",
    "    data = yf.download(ticker, start=start_date, end=end_date)\n",
    "    price_data[ticker] = data['Close']\n",
    "\n",
    "print(price_data.head())\n",
    "\n"
   ]
  },
  {
   "cell_type": "markdown",
   "id": "71449125-3d5a-4f3e-965a-b48a072710bd",
   "metadata": {},
   "source": [
    "## Calculating Daily Log Returns\n",
    "\n",
    "Once we have the adjusted close prices, we calculate the **daily log returns** and drop any missing values."
   ]
  },
  {
   "cell_type": "code",
   "execution_count": 8,
   "id": "335bd06e-872f-4fc5-9f12-12192710c1a1",
   "metadata": {},
   "outputs": [
    {
     "name": "stdout",
     "output_type": "stream",
     "text": [
      "                AAPL      MSFT     GOOGL      AMZN      TSLA\n",
      "Date                                                        \n",
      "2015-08-26  0.055770  0.053873  0.074346  0.071168  0.021625\n",
      "2015-08-27  0.029021  0.027481  0.012382  0.034542  0.077631\n",
      "2015-08-28  0.003271  0.000683 -0.012458 -0.000695  0.022342\n",
      "2015-08-31 -0.004689 -0.009377 -0.018157 -0.009933  0.002332\n",
      "2015-09-01 -0.045726 -0.039846 -0.028592 -0.032397 -0.042780\n"
     ]
    }
   ],
   "source": [
    "log_returns = np.log(price_data / price_data.shift(1)).dropna()\n",
    "print(log_returns.head())\n"
   ]
  },
  {
   "cell_type": "markdown",
   "id": "69bb8f9e-4e0b-42ca-bd5c-e1e272e801b2",
   "metadata": {},
   "source": [
    "## Construct Equally Weighted Portfolio\n",
    "\n",
    "Assume a portfolio value of **$500,000** distributed equally across the 5 stocks."
   ]
  },
  {
   "cell_type": "code",
   "execution_count": 9,
   "id": "a983a27b-bd91-4203-b1c9-73f9f7ff42db",
   "metadata": {},
   "outputs": [
    {
     "name": "stdout",
     "output_type": "stream",
     "text": [
      "[0.2 0.2 0.2 0.2 0.2]\n"
     ]
    }
   ],
   "source": [
    "portfolio_value = 500_000\n",
    "weights = np.array([1/len(tickers)]*len(tickers))\n",
    "\n",
    "print(weights)\n"
   ]
  },
  {
   "cell_type": "markdown",
   "id": "7021a48d-a3cd-41d9-b151-65c6b49ed676",
   "metadata": {},
   "source": [
    "## Calculate Portfolio Daily Returns\n",
    "\n",
    "Weighted sum of daily log returns gives the portfolio’s daily return.\n"
   ]
  },
  {
   "cell_type": "code",
   "execution_count": 10,
   "id": "9835331b-b5d7-49c2-ba23-d64865a777ec",
   "metadata": {},
   "outputs": [
    {
     "name": "stdout",
     "output_type": "stream",
     "text": [
      "Date\n",
      "2015-08-26    0.055356\n",
      "2015-08-27    0.036212\n",
      "2015-08-28    0.002629\n",
      "2015-08-31   -0.007965\n",
      "2015-09-01   -0.037868\n",
      "dtype: float64\n"
     ]
    }
   ],
   "source": [
    "portfolio_returns = (log_returns * weights).sum(axis=1)\n",
    "print(portfolio_returns.head())\n"
   ]
  },
  {
   "cell_type": "markdown",
   "id": "4b04f07f-7d63-432f-8929-7033b87412ea",
   "metadata": {},
   "source": [
    "## Calculate Rolling X-Day Returns\n",
    "\n",
    "Use a **60-day rolling window** to compute cumulative returns for risk assessment.\n"
   ]
  },
  {
   "cell_type": "code",
   "execution_count": 11,
   "id": "bad75dea-6104-42d1-af37-ce52ce695d44",
   "metadata": {},
   "outputs": [
    {
     "name": "stdout",
     "output_type": "stream",
     "text": [
      "Date\n",
      "2015-11-18    0.198510\n",
      "2015-11-19    0.145968\n",
      "2015-11-20    0.116534\n",
      "2015-11-23    0.112276\n",
      "2015-11-24    0.118680\n",
      "dtype: float64\n"
     ]
    }
   ],
   "source": [
    "window_days = 60\n",
    "rolling_returns = portfolio_returns.rolling(window=window_days).sum().dropna()\n",
    "print(rolling_returns.head())\n"
   ]
  },
  {
   "cell_type": "markdown",
   "id": "cc2e371e-8a17-4af7-9882-61ddc68e4699",
   "metadata": {},
   "source": [
    "## Compute Historical VaR\n",
    "\n",
    "Calculate **99% confidence Value at Risk** using the historical method.\n"
   ]
  },
  {
   "cell_type": "code",
   "execution_count": 12,
   "id": "43399d64-4d74-4b48-8204-77b0cbd20d5a",
   "metadata": {},
   "outputs": [
    {
     "name": "stdout",
     "output_type": "stream",
     "text": [
      "Portfolio VaR (99% confidence): $140,458.55\n"
     ]
    }
   ],
   "source": [
    "confidence = 0.99\n",
    "VaR = -np.percentile(rolling_returns, 100 - confidence*100) * portfolio_value\n",
    "print(f\"Portfolio VaR (99% confidence): ${VaR:,.2f}\")\n"
   ]
  },
  {
   "cell_type": "markdown",
   "id": "296701e5-b6fe-4324-b8b6-17be2bb6d778",
   "metadata": {},
   "source": [
    "## Visualize Portfolio Returns and VaR\n",
    "\n",
    "Plot the distribution of the rolling returns and indicate the VaR level.\n"
   ]
  },
  {
   "cell_type": "code",
   "execution_count": 13,
   "id": "1e296546-7b77-49b1-be17-aa5ba135e11c",
   "metadata": {},
   "outputs": [
    {
     "data": {
      "image/png": "[encoded data removed]",
      "text/plain": [
       "<Figure size 1000x600 with 1 Axes>"
      ]
     },
     "metadata": {},
     "output_type": "display_data"
    }
   ],
   "source": [
    "rolling_returns_dollar = rolling_returns * portfolio_value\n",
    "\n",
    "plt.figure(figsize=(10,6))\n",
    "plt.hist(rolling_returns_dollar, bins=40, color='skyblue', edgecolor='black', density=True)\n",
    "plt.axvline(-VaR, color='red', linestyle='--', linewidth=2, label=f'VaR (99% confidence)')\n",
    "plt.title('Distribution of 60-Day Portfolio Returns (Dollar Value)')\n",
    "plt.xlabel('60-Day Portfolio Return ($)')\n",
    "plt.ylabel('Density')\n",
    "plt.legend()\n",
    "plt.show()\n"
   ]
  },
  {
   "cell_type": "code",
   "execution_count": null,
   "id": "b1addddf-88bf-4eb5-a0dd-82f8512a5d6a",
   "metadata": {},
   "outputs": [],
   "source": []
  }
 ],
 "metadata": {
  "kernelspec": {
   "display_name": "Python 3 (ipykernel)",
   "language": "python",
   "name": "python3"
  },
  "language_info": {
   "codemirror_mode": {
    "name": "ipython",
    "version": 3
   },
   "file_extension": ".py",
   "mimetype": "text/x-python",
   "name": "python",
   "nbconvert_exporter": "python",
   "pygments_lexer": "ipython3",
   "version": "3.9.13"
  }
 },
 "nbformat": 4,
 "nbformat_minor": 5
}
